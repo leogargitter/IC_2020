{
 "cells": [
  {
   "cell_type": "markdown",
   "metadata": {},
   "source": [
    "# Resumo relatório final\n",
    "\n",
    "## Modelo Memory Polynomial (MP)\n",
    "\n",
    "O modelo MP é descrito pela seguinte equação: \n",
    "\n",
    "$$\\tilde{out}_n = \\sum^{P}_{p=1}\\sum^{M}_{m=0}\\tilde{coefs}_{mp}\\tilde{in}_{n-m}|\\tilde{in}_{n-m}|^{p-1}$$\n",
    "\n",
    "Onde $\\tilde{out}$ e $\\tilde{in}$ são vetores de valores complexos.\n"
   ]
  },
  {
   "cell_type": "markdown",
   "metadata": {},
   "source": [
    "\n",
    "## Cálculo dos coeficientes\n",
    "\n",
    "O cálculo dos coeficientes é feito como descrito na equação a seguir:\n",
    "\n",
    "$$ \\tilde{coefs}_{mp} = \\frac{\\tilde{out}_n}  {\\sum^{P}_{p=1}\\sum^{M}_{m=0}\\tilde{in}_{n-m}|\\tilde{in}_{n-m}|^{p-1}} $$\n",
    "\n",
    "Essa operação pode ser realizada utilizando a abordagem com matrizes complexas. "
   ]
  },
  {
   "cell_type": "code",
   "execution_count": 2,
   "metadata": {},
   "outputs": [
    {
     "output_type": "stream",
     "name": "stdout",
     "text": "[[ 1.2622929 -5.32196973e-03j]\n [-1.69747655+5.09301593e-02j]\n [ 3.45340987+7.74461073e-01j]\n [-3.30856233-2.26594244e+00j]\n [ 0.91061063+1.31286342e+00j]\n [-0.05662761+4.03202604e-04j]\n [ 0.32810271-1.40232176e-01j]\n [ 0.78543012+1.77217523e-01j]\n [-1.80250055-6.56437588e-02j]\n [ 0.95415195-4.09195545e-02j]\n [-0.04889592+8.81045717e-03j]\n [ 0.1645401 -3.24559864e-02j]\n [-0.83237918+1.70448069e-01j]\n [ 1.15547792-2.82329965e-01j]\n [-0.53874228+1.69059491e-01j]]\n"
    }
   ],
   "source": [
    "import scipy.io as spio\n",
    "import scipy as sp\n",
    "import numpy as np\n",
    "import matplotlib.pyplot as plt\n",
    "\n",
    "\n",
    "mat = spio.loadmat('data_LDMOS.mat')\n",
    "in_ext = mat['in_extraction']\n",
    "out_ext = mat['out_extraction']\n",
    "in_val = mat['in_validation']\n",
    "out_val = mat['out_validation']\n",
    "\n",
    "P = 5\n",
    "M = 2\n",
    "n = 2\n",
    "\n",
    "\n",
    "def x_mp(entrada, M, P):\n",
    "    modulo_entrada = np.absolute(entrada)\n",
    "    X_MP = np.zeros((len(entrada),P*(M+1)),dtype=complex)\n",
    "    for r in range(M+1,len(entrada)):\n",
    "        for m in range(M+1):\n",
    "            for p in range(1,P+1):\n",
    "                c = ((m*P)-1)+p\n",
    "                X_MP[r,c] = entrada[r-m,0]*((modulo_entrada[r-m,0])**(p-1))\n",
    "    return X_MP\n",
    "\n",
    "X_ext = x_mp(in_ext,M,P)\n",
    "X_ext2 = X_ext[M+3:len(X_ext)-(M+3),:]\n",
    "out_ext2 = out_ext[M+3:len(out_ext)-(M+3),:]\n",
    "coefs = np.linalg.lstsq(X_ext2,out_ext2,rcond=-1)\n",
    "coefs = coefs[0]\n",
    "print(coefs)"
   ]
  },
  {
   "cell_type": "markdown",
   "metadata": {},
   "source": [
    "## Validação usando matrizes complexas:\n",
    "\n",
    "Seguindo a equação:\n",
    "\n",
    "$$\\tilde{out}_n = \\sum^{P}_{p=1}\\sum^{M}_{m=0}\\tilde{coefs}_{mp}\\tilde{in}_{n-m}|\\tilde{in}_{n-m}|^{p-1}$$\n",
    "\n",
    "Para calcularmos a saída estimada para validação precisamos apenas multiplicar os coeficientes calculados anteriormente por $\\sum^{P}_{p=1}\\sum^{M}_{m=0}\\tilde{in}_{n-m}|\\tilde{in}_{n-m}|^{p-1}$\n"
   ]
  },
  {
   "cell_type": "code",
   "execution_count": 3,
   "metadata": {},
   "outputs": [
    {
     "output_type": "stream",
     "name": "stdout",
     "text": "[[0.17080977-0.45086617j]\n [0.09153475-0.46860405j]\n [0.00505675-0.46001652j]\n ...\n [0.13832978+0.07226911j]\n [0.1237369 +0.11137137j]\n [0.11426619+0.14626386j]]\n"
    }
   ],
   "source": [
    "X_val = x_mp(in_val,M,P)\n",
    "X_val2 = X_val[M+3:len(X_val)-(M+3),:]\n",
    "out_calc_mat_cmplx = X_val2@coefs\n",
    "print(out_calc_mat_cmplx)"
   ]
  },
  {
   "cell_type": "markdown",
   "metadata": {},
   "source": [
    "### NMSE \n",
    "\n",
    "A métrica utilizada comparar o desempenho do modelo em cada abordagem será o NMSE, que é descrito pela seguinte equação:\n",
    "\n",
    "$$ NMSE = 10log_{10}\\frac{\\sum^{N}_{n=1}|e_n|^2}{\\sum^{N}_{n=1}|out_n|^2}$$\n",
    "\n",
    "onde $out_n$ é o valor da amostra do sinal de saída no instante n, $e_n$ é o valor calculado\n",
    "do erro entre as amostras do sinal de saída real e do sinal de saída simulado pelo modelo,\n",
    "ou seja, $out_n − outcalc_n$ e N representa a quantidade total de amostras disponíveis."
   ]
  },
  {
   "cell_type": "code",
   "execution_count": 4,
   "metadata": {},
   "outputs": [
    {
     "output_type": "stream",
     "name": "stdout",
     "text": "NMSE =  -38.4445161722999\n"
    }
   ],
   "source": [
    "out_val2 = out_val[M+3:len(X_val)-(M+3),:]\n",
    "erro_mat_cmplx = out_val2 - out_calc_mat_cmplx\n",
    "erro_mat_cmplx = np.sum(np.absolute(erro_mat_cmplx)**2)\n",
    "out_ref_mat_cmplx = np.sum(np.absolute(out_val2)**2)\n",
    "NMSE = 10*np.log10(erro_mat_cmplx/out_ref_mat_cmplx)\n",
    "print('NMSE = ',NMSE)"
   ]
  },
  {
   "cell_type": "markdown",
   "metadata": {},
   "source": [
    "## Validação usando LUTS:"
   ]
  },
  {
   "cell_type": "code",
   "execution_count": 8,
   "metadata": {},
   "outputs": [
    {
     "output_type": "stream",
     "name": "stdout",
     "text": "[[ 0.87684764-0.05352152j  0.08443498-0.03310248j -0.05817805+0.00964452j]\n [ 0.96916181+0.01733429j  0.0608937 -0.02700679j -0.04379537+0.00759249j]\n [ 0.9668257 +0.01673899j  0.04485452-0.02435864j -0.04029612+0.00705578j]\n [ 1.04894257+0.01577934j  0.0089257 -0.01783284j -0.03932221+0.00691063j]]\n"
    }
   ],
   "source": [
    "def in_abs(entrada, M, P):\n",
    "    modulo_entrada = np.absolute(entrada)\n",
    "    in_abs = np.zeros((len(entrada),P*(M+1)),dtype=complex)\n",
    "    for r in range(M+1,len(entrada)):\n",
    "        for m in range(M+1):\n",
    "            for p in range(1,P+1):\n",
    "                c = ((m*P)-1)+p\n",
    "                in_abs[r,c] = (modulo_entrada[r-m,0])**(p-1)\n",
    "    return in_abs\n",
    "\n",
    "\n",
    "def lut(in_abs,M,P,n):\n",
    "    xpol2 = in_abs[:,0:P-1]@coefs[0:P-1]\n",
    "    for i in range(1,M+1):\n",
    "        xpol = in_abs[:,i*P:((i*P)*(i+1))-1]@coefs[i*P:((i*P)*(i+1))-1]\n",
    "        xpol2 = np.hstack((xpol2,xpol))\n",
    "\n",
    "    xpol2 = xpol2[M+3:len(X_val)-(M+3),:]\n",
    "\n",
    "    Q = 2**n\n",
    "    z=np.linspace(0,1,Q)\n",
    "\n",
    "    z = [int(round(a*(len(xpol2)-1))) for a in z]\n",
    "    \n",
    "    # lut = np.zeros((Q,(M+1)*2))\n",
    "    # k = -1\n",
    "    # for c in range(0,2*(M+1),2):\n",
    "    #     k+=1\n",
    "    #     for r in range(Q):\n",
    "    #         lut[r,c] = np.real(xpol2[z[r],k])\n",
    "    #         lut[r,c+1] = np.imag(xpol2[z[r],k])\n",
    "    \n",
    "    lut = np.zeros((Q,M+1),dtype=np.complex_)\n",
    "    for c in range(0,M+1):\n",
    "        for r in range(Q):\n",
    "            lut[r,c] = xpol2[z[r],c]\n",
    "    return lut\n",
    "\n",
    "\n",
    "\n",
    "\n",
    "in_lut = in_abs(in_val,M,P)\n",
    "lut = lut(in_lut, M, P, n)\n",
    "print(lut)"
   ]
  },
  {
   "cell_type": "code",
   "execution_count": 11,
   "metadata": {},
   "outputs": [
    {
     "output_type": "stream",
     "name": "stdout",
     "text": "-24.85407713520921\n"
    }
   ],
   "source": [
    "from scipy import interpolate\n",
    "\n",
    "\n",
    "def interpolacao(entrada,lut,M,n):\n",
    "    Q = 2**n\n",
    "    z = np.linspace(0,1,Q)\n",
    "\n",
    "    abs_in = np.absolute(entrada)\n",
    "    \n",
    "    f = interpolate.interp1d(z,lut[:,0])\n",
    "    inter = f(abs_in)\n",
    "    for c in range(1,M+1):\n",
    "        abs_in = np.absolute(in_val)\n",
    "        f = interpolate.interp1d(z,lut[:,c])\n",
    "        inter2 = f(abs_in)\n",
    "        inter = np.hstack((inter,inter2))\n",
    "\n",
    "    return inter\n",
    "\n",
    "inter = interpolacao(in_val,lut,M,n)\n",
    "inter = inter[M+3:len(X_val)-(M+3),:]\n",
    "\n",
    "in_val_lut = in_val[M+3:len(X_val)-(M+3),:]\n",
    "\n",
    "out_lut = np.multiply(inter,in_val_lut)\n",
    "out_lut = out_lut.sum(axis=1)\n",
    "out_lut = out_lut.reshape(len(out_lut),1)\n",
    "\n",
    "erro_lut = out_val2 - out_lut\n",
    "erro_lut = np.sum(np.absolute(erro_lut)**2)\n",
    "out_ref_lut = np.sum(np.absolute(out_val2)**2)\n",
    "NMSE_lut = 10*np.log10(erro_lut/out_ref_lut)\n",
    "print(NMSE_lut)"
   ]
  },
  {
   "cell_type": "markdown",
   "metadata": {},
   "source": [
    "## Validação usando matrizes reais:"
   ]
  },
  {
   "cell_type": "code",
   "execution_count": null,
   "metadata": {},
   "outputs": [],
   "source": []
  }
 ],
 "metadata": {
  "language_info": {
   "codemirror_mode": {
    "name": "ipython",
    "version": 3
   },
   "file_extension": ".py",
   "mimetype": "text/x-python",
   "name": "python",
   "nbconvert_exporter": "python",
   "pygments_lexer": "ipython3",
   "version": "3.7.7-final"
  },
  "orig_nbformat": 2,
  "kernelspec": {
   "name": "python37764bitdad157b643b7445ca0af50d1c9882389",
   "display_name": "Python 3.7.7 64-bit"
  }
 },
 "nbformat": 4,
 "nbformat_minor": 2
}