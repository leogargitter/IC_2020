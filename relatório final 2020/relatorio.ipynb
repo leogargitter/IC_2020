{
 "cells": [
  {
   "cell_type": "markdown",
   "metadata": {},
   "source": [
    "# Resumo relatório final\n",
    "\n",
    "## Modelo Memory Polynomial (MP)\n",
    "\n",
    "O modelo MP é descrito pela seguinte equação: \n",
    "\n",
    "$$\\tilde{out}_n = \\sum^{P}_{p=1}\\sum^{M}_{m=0}\\tilde{coefs}_{mp}\\tilde{in}_{n-m}|\\tilde{in}_{n-m}|^{p-1}$$\n",
    "\n",
    "Onde $\\tilde{out}$ e $\\tilde{in}$ são vetores de valores complexos.\n"
   ]
  },
  {
   "cell_type": "markdown",
   "metadata": {},
   "source": [
    "\n",
    "## Cálculo dos coeficientes\n",
    "\n",
    "O cálculo dos coeficientes é feito como descrito na equação a seguir:\n",
    "\n",
    "$$ \\tilde{coefs}_{mp} = \\frac{\\tilde{out}_n}  {\\sum^{P}_{p=1}\\sum^{M}_{m=0}\\tilde{in}_{n-m}|\\tilde{in}_{n-m}|^{p-1}} $$\n",
    "\n",
    "Essa operação pode ser realizada utilizando a abordagem com matrizes complexas. "
   ]
  },
  {
   "cell_type": "code",
   "execution_count": 20,
   "metadata": {},
   "outputs": [
    {
     "output_type": "stream",
     "name": "stdout",
     "text": "[[ 1.30542312-0.0131647j ]\n [-1.76929598+0.06808608j]\n [ 3.90364644+0.66983932j]\n [-3.91249141-2.08893954j]\n [ 1.18305453+1.20344584j]\n [-0.14491305+0.01647957j]\n [ 0.50472549-0.18029606j]\n [-0.21917076+0.40431498j]\n [-0.45685679-0.44377121j]\n [ 0.34534536+0.18979976j]]\n"
    }
   ],
   "source": [
    "import scipy.io as spio\n",
    "import scipy as sp\n",
    "import numpy as np\n",
    "import matplotlib.pyplot as plt\n",
    "\n",
    "\n",
    "mat = spio.loadmat('data_LDMOS.mat')\n",
    "in_ext = mat['in_extraction']\n",
    "out_ext = mat['out_extraction']\n",
    "in_val = mat['in_validation']\n",
    "out_val = mat['out_validation']\n",
    "\n",
    "P = 5\n",
    "M = 1\n",
    "\n",
    "\n",
    "def x_mp(entrada, M, P):\n",
    "    modulo_entrada = np.absolute(entrada)\n",
    "    X_MP = np.zeros((len(entrada),P*(M+1)),dtype=complex)\n",
    "    for i in range(M+1,len(entrada)):\n",
    "        for m in range(M+1):\n",
    "            for p in range(1,P+1):\n",
    "                j = ((m*P)-1)+p\n",
    "                X_MP[i,j] = entrada[i-m,0]*((modulo_entrada[i-m,0])**(p-1))\n",
    "    return X_MP\n",
    "\n",
    "X_ext = x_mp(in_ext,M,P)\n",
    "X_ext2 = X_ext[M+3:len(X_ext)-(M+3),:]\n",
    "out_ext2 = out_ext[M+3:len(out_ext)-(M+3),:]\n",
    "coefs = np.linalg.lstsq(X_ext2,out_ext2,rcond=-1)\n",
    "coefs = coefs[0]\n",
    "print(coefs)"
   ]
  },
  {
   "cell_type": "markdown",
   "metadata": {},
   "source": [
    "## Validação usando matrizes complexas:\n",
    "\n",
    "Seguindo a equação:\n",
    "\n",
    "$$\\tilde{out}_n = \\sum^{P}_{p=1}\\sum^{M}_{m=0}\\tilde{coefs}_{mp}\\tilde{in}_{n-m}|\\tilde{in}_{n-m}|^{p-1}$$\n",
    "\n",
    "Para calcularmos a saída estimada para validação precisamos apenas multiplicar os coeficientes calculados anteriormente por $\\sum^{P}_{p=1}\\sum^{M}_{m=0}\\tilde{in}_{n-m}|\\tilde{in}_{n-m}|^{p-1}$\n"
   ]
  },
  {
   "cell_type": "code",
   "execution_count": 5,
   "metadata": {},
   "outputs": [
    {
     "output_type": "stream",
     "name": "stdout",
     "text": "[[0.23128482-0.40243892j]\n [0.16971226-0.44974441j]\n [0.09110992-0.46789906j]\n ...\n [0.12400208+0.11157424j]\n [0.11446275+0.14622802j]\n [0.10898914+0.17024472j]]\n"
    }
   ],
   "source": [
    "X_val = x_mp(in_val,M,P)\n",
    "X_val2 = X_val[M+3:len(X_val)-(M+3),:]\n",
    "out_calc_mat_cmplx = X_val2@coefs\n",
    "print(out_calc_mat_cmplx)"
   ]
  },
  {
   "cell_type": "markdown",
   "metadata": {},
   "source": [
    "### NMSE \n",
    "\n",
    "A métrica utilizada comparar o desempenho do modelo em cada abordagem será o NMSE, que é descrito pela seguinte equação:\n",
    "\n",
    "$$ NMSE = 10log_{10}\\frac{\\sum^{N}_{n=1}|e_n|^2}{\\sum^{N}_{n=1}|out_n|^2}$$\n",
    "\n",
    "onde $out_n$ é o valor da amostra do sinal de saída no instante n, $e_n$ é o valor calculado\n",
    "do erro entre as amostras do sinal de saída real e do sinal de saída simulado pelo modelo,\n",
    "ou seja, $out_n − outcalc_n$ e N representa a quantidade total de amostras disponíveis."
   ]
  },
  {
   "cell_type": "code",
   "execution_count": 16,
   "metadata": {},
   "outputs": [
    {
     "output_type": "stream",
     "name": "stdout",
     "text": "NMSE =  -38.07449082171138\n"
    }
   ],
   "source": [
    "out_val2 = out_val[M+3:len(X_val)-(M+3),:]\n",
    "erro_mat_cmplx = out_val2 - out_calc_mat_cmplx\n",
    "erro_mat_cmplx = np.sum(np.absolute(erro_mat_cmplx)**2)\n",
    "out_ref_mat_cmplx = np.sum(np.absolute(out_val2)**2)\n",
    "NMSE = 10*np.log10(erro_mat_cmplx/out_ref_mat_cmplx)\n",
    "print('NMSE = ',NMSE)"
   ]
  },
  {
   "cell_type": "markdown",
   "metadata": {},
   "source": [
    "## Validação usando LUTS:"
   ]
  },
  {
   "cell_type": "code",
   "execution_count": null,
   "metadata": {},
   "outputs": [],
   "source": [
    "def x_pol(entrada, M, P):\n",
    "    modulo_entrada = np.absolute(entrada)\n",
    "    X_pol = np.zeros((len(entrada),P*(M+1)),dtype=complex)\n",
    "    for i in range(M+1,len(entrada)):\n",
    "        for m in range(M+1):\n",
    "            for p in range(1,P+1):\n",
    "                j = ((m*P)-1)+p\n",
    "                X_pol[i,j] = (modulo_entrada[i-m,0])**(p-1)\n",
    "    return X_pol\n",
    "\n",
    "def lut(x_pol,coefs,P,M,n):\n",
    "    xpol2 = x_pol[:,0:P-1]*coef[0:P-1]"
   ]
  }
 ],
 "metadata": {
  "language_info": {
   "codemirror_mode": {
    "name": "ipython",
    "version": 3
   },
   "file_extension": ".py",
   "mimetype": "text/x-python",
   "name": "python",
   "nbconvert_exporter": "python",
   "pygments_lexer": "ipython3",
   "version": "3.7.7-final"
  },
  "orig_nbformat": 2,
  "kernelspec": {
   "name": "python37764bitdad157b643b7445ca0af50d1c9882389",
   "display_name": "Python 3.7.7 64-bit"
  }
 },
 "nbformat": 4,
 "nbformat_minor": 2
}