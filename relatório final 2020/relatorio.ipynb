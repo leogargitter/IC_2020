{
 "cells": [
  {
   "cell_type": "markdown",
   "metadata": {},
   "source": [
    "# Resumo relatório final\n",
    "\n",
    "## Modelo Memory Polynomial (MP)\n",
    "\n",
    "O modelo MP é descrito pela seguinte equação: \n",
    "\n",
    "$$\\tilde{out}_n = \\sum^{P}_{p=1}\\sum^{M}_{m=0}\\tilde{coefs}_{mp}\\tilde{in}_{n-m}|\\tilde{in}_{n-m}|^{p-1}$$\n",
    "\n",
    "Onde $\\tilde{out}$ e $\\tilde{in}$ são vetores de valores complexos.\n"
   ]
  },
  {
   "cell_type": "markdown",
   "metadata": {},
   "source": [
    "\n",
    "## Cálculo dos coeficientes\n",
    "\n",
    "O cálculo dos coeficientes é feito como descrito na equação a seguir:\n",
    "\n",
    "$$ \\tilde{coefs}_{mp} = \\frac{\\tilde{out}_n}  {\\sum^{P}_{p=1}\\sum^{M}_{m=0}\\tilde{in}_{n-m}|\\tilde{in}_{n-m}|^{p-1}} $$\n",
    "\n",
    "Essa operação pode ser realizada utilizando a abordagem com matrizes complexas. "
   ]
  },
  {
   "cell_type": "code",
   "execution_count": 1,
   "metadata": {
    "tags": []
   },
   "outputs": [
    {
     "output_type": "stream",
     "name": "stdout",
     "text": "[[ 1.30542312-0.0131647j ]\n [-1.76929598+0.06808608j]\n [ 3.90364644+0.66983932j]\n [-3.91249141-2.08893954j]\n [ 1.18305453+1.20344584j]\n [-0.14491305+0.01647957j]\n [ 0.50472549-0.18029606j]\n [-0.21917076+0.40431498j]\n [-0.45685679-0.44377121j]\n [ 0.34534536+0.18979976j]]\n"
    }
   ],
   "source": [
    "import scipy.io as spio\n",
    "import scipy as sp\n",
    "import numpy as np\n",
    "import matplotlib.pyplot as plt\n",
    "\n",
    "\n",
    "mat = spio.loadmat('data_LDMOS.mat')\n",
    "in_ext = mat['in_extraction']\n",
    "out_ext = mat['out_extraction']\n",
    "in_val = mat['in_validation']\n",
    "out_val = mat['out_validation']\n",
    "\n",
    "P = 5\n",
    "M = 1\n",
    "n = 2\n",
    "\n",
    "\n",
    "def x_mp(entrada, M, P):\n",
    "    modulo_entrada = np.absolute(entrada)\n",
    "    X_MP = np.zeros((len(entrada),P*(M+1)),dtype=complex)\n",
    "    for r in range(M+1,len(entrada)):\n",
    "        for m in range(M+1):\n",
    "            for p in range(1,P+1):\n",
    "                c = ((m*P)-1)+p\n",
    "                X_MP[r,c] = entrada[r-m,0]*((modulo_entrada[r-m,0])**(p-1))\n",
    "    return X_MP\n",
    "\n",
    "X_ext = x_mp(in_ext,M,P)\n",
    "X_ext2 = X_ext[M+3:len(X_ext)-(M+3),:]\n",
    "out_ext2 = out_ext[M+3:len(out_ext)-(M+3),:]\n",
    "coefs = np.linalg.lstsq(X_ext2,out_ext2,rcond=-1)\n",
    "coefs = coefs[0]\n",
    "print(coefs)"
   ]
  },
  {
   "cell_type": "markdown",
   "metadata": {},
   "source": [
    "Os coeficientes como estão calculados são dispostos da seguinte forma: \n",
    "\n",
    "$$coef_{mp} = \\begin{bmatrix} b_{01} \\\\ b_{02} \\\\ b_{03} \\\\ b_{11} \\\\ b_{12} \\\\ b_{13} \\end{bmatrix} $$\n",
    "\n",
    "Obs.: considerando M=1 e P=3\n"
   ]
  },
  {
   "cell_type": "markdown",
   "metadata": {},
   "source": [
    "## Validação usando matrizes complexas:\n",
    "\n",
    "Seguindo a equação:\n",
    "\n",
    "$$\\tilde{out}_n = \\sum^{P}_{p=1}\\sum^{M}_{m=0}\\tilde{coefs}_{mp}\\tilde{in}_{n-m}|\\tilde{in}_{n-m}|^{p-1}$$\n",
    "\n",
    "Para calcularmos a saída estimada para validação precisamos apenas multiplicar os coeficientes calculados anteriormente por $\\sum^{P}_{p=1}\\sum^{M}_{m=0}\\tilde{in}_{n-m}|\\tilde{in}_{n-m}|^{p-1}$\n"
   ]
  },
  {
   "cell_type": "code",
   "execution_count": 2,
   "metadata": {
    "tags": []
   },
   "outputs": [
    {
     "output_type": "stream",
     "name": "stdout",
     "text": "[[0.23128482-0.40243892j]\n [0.16971226-0.44974441j]\n [0.09110992-0.46789906j]\n ...\n [0.12400208+0.11157424j]\n [0.11446275+0.14622802j]\n [0.10898914+0.17024472j]]\n"
    }
   ],
   "source": [
    "X_val = x_mp(in_val,M,P)\n",
    "X_val2 = X_val[M+3:len(X_val)-(M+3),:]\n",
    "out_calc_mat_cmplx = X_val2@coefs\n",
    "print(out_calc_mat_cmplx)"
   ]
  },
  {
   "cell_type": "markdown",
   "metadata": {},
   "source": [
    "### NMSE \n",
    "\n",
    "A métrica utilizada comparar o desempenho do modelo em cada abordagem será o NMSE, que é descrito pela seguinte equação:\n",
    "\n",
    "$$ NMSE = 10log_{10}\\frac{\\sum^{N}_{n=1}|e_n|^2}{\\sum^{N}_{n=1}|out_n|^2}$$\n",
    "\n",
    "onde $out_n$ é o valor da amostra do sinal de saída no instante n, $e_n$ é o valor calculado\n",
    "do erro entre as amostras do sinal de saída real e do sinal de saída simulado pelo modelo,\n",
    "ou seja, $out_n − outcalc_n$ e N representa a quantidade total de amostras disponíveis."
   ]
  },
  {
   "cell_type": "code",
   "execution_count": 10,
   "metadata": {},
   "outputs": [
    {
     "output_type": "execute_result",
     "data": {
      "text/plain": "-38.07449082171138"
     },
     "metadata": {},
     "execution_count": 10
    }
   ],
   "source": [
    "def NMSE(previsao,validacao):\n",
    "    erro = validacao - previsao\n",
    "    erro = np.sum(np.absolute(erro)**2)\n",
    "    val = np.sum(np.absolute(validacao)**2)\n",
    "    res = 10*np.log10(erro/val)\n",
    "    return res\n",
    "out_val2 = out_val[M+3:len(X_val)-(M+3),:]\n",
    "NMSE(out_calc_mat_cmplx,out_val2)"
   ]
  },
  {
   "cell_type": "markdown",
   "metadata": {},
   "source": [
    "## Validação usando LUTS:"
   ]
  },
  {
   "cell_type": "code",
   "execution_count": 11,
   "metadata": {
    "tags": []
   },
   "outputs": [
    {
     "output_type": "stream",
     "name": "stdout",
     "text": "LUT:  [[ 0.93276386-0.0473117j  -0.00507413-0.02117153j]\n [ 1.01531844+0.01003029j -0.02789541-0.01267545j]\n [ 1.01313211+0.00945178j -0.04075718-0.01002357j]\n [ 1.07789517+0.0103456j  -0.0636315 -0.00550209j]]\n"
    }
   ],
   "source": [
    "def in_abs_lut(entrada, M, P):\n",
    "    modulo_entrada = np.absolute(entrada)\n",
    "    in_abs = np.zeros((len(entrada),P*(M+1)),dtype=complex)\n",
    "    for r in range(M+1,len(entrada)):\n",
    "        for m in range(M+1):\n",
    "            for p in range(1,P+1):\n",
    "                c = ((m*P)-1)+p\n",
    "                in_abs[r,c] = (modulo_entrada[r-m,0])**(p-1)\n",
    "    return in_abs\n",
    "\n",
    "\n",
    "def lut(in_abs,M,P,n):\n",
    "    xpol2 = in_abs[:,0:P-1]@coefs[0:P-1]\n",
    "    for i in range(1,M+1):\n",
    "        xpol = in_abs[:,i*P:((i*P)*(i+1))-1]@coefs[i*P:((i*P)*(i+1))-1]\n",
    "        xpol2 = np.hstack((xpol2,xpol))\n",
    "\n",
    "    xpol2 = xpol2[M+3:len(X_val)-(M+3),:]\n",
    "\n",
    "    Q = 2**n\n",
    "    z=np.linspace(0,1,Q)\n",
    "\n",
    "    z = [int(round(a*(len(xpol2)-1))) for a in z]  \n",
    "    \n",
    "    lut = np.zeros((Q,M+1),dtype=np.complex_)\n",
    "    for c in range(0,M+1):\n",
    "        for r in range(Q):\n",
    "            lut[r,c] = xpol2[z[r],c]\n",
    "    return lut\n",
    "\n",
    "\n",
    "in_lut = in_abs_lut(in_val,M,P)\n",
    "lut = lut(in_lut, M, P, n)\n",
    "print('LUT: ',lut)"
   ]
  },
  {
   "cell_type": "code",
   "execution_count": 12,
   "metadata": {
    "tags": []
   },
   "outputs": [
    {
     "output_type": "stream",
     "name": "stdout",
     "text": "-25.37310917380284\n"
    }
   ],
   "source": [
    "from scipy import interpolate\n",
    "\n",
    "\n",
    "def interpolacao(entrada,lut,M,n):\n",
    "    Q = 2**n\n",
    "    z = np.linspace(0,1,Q)\n",
    " \n",
    "    abs_in = np.absolute(entrada)\n",
    "\n",
    "    inter = np.interp(abs_in,z,lut[:,0])\n",
    "    for c in range(1,M+1):\n",
    "        inter2 = np.interp(abs_in,z,lut[:,c])\n",
    "        inter = np.hstack((inter,inter2))\n",
    "\n",
    "    return inter\n",
    "\n",
    "inter = interpolacao(in_val,lut,M,n)\n",
    "inter = inter.sum(axis=1)\n",
    "inter = inter.reshape(len(inter),1)\n",
    "\n",
    "out_lut = inter*in_val\n",
    "\n",
    "erro_lut = out_val - out_lut\n",
    "erro_lut = np.sum(np.absolute(erro_lut)**2)\n",
    "out_ref_lut = np.sum(np.absolute(out_val2)**2)\n",
    "NMSE_lut = 10*np.log10(erro_lut/out_ref_lut)\n",
    "print(NMSE_lut)"
   ]
  },
  {
   "cell_type": "markdown",
   "metadata": {},
   "source": [
    "## Validação usando matrizes reais:\n",
    "\n",
    "Usando a equação:\n",
    "\n",
    "\n",
    "$\\begin{bmatrix} a + jb & c + jd \\end{bmatrix} * \\begin{bmatrix} e + jf \\\\ g + jh \\end{bmatrix} = \\begin{bmatrix} a & b & c & d \\end{bmatrix} * \\begin{bmatrix} e & f \\\\ -f & e \\\\ g & h \\\\ -h & g \\end{bmatrix}$\n",
    "\n",
    "Na etapa de multiplicação pelos coeficientes."
   ]
  },
  {
   "cell_type": "code",
   "execution_count": 13,
   "metadata": {
    "tags": []
   },
   "outputs": [],
   "source": [
    "def in_abs_real(in_val,P):\n",
    "    res = np.zeros((len(in_val),P))\n",
    "    for c in range(1,P+1,1):\n",
    "        for r in range(len(in_val)):\n",
    "            res[r,c-1] = (np.abs(in_val[r]))**(c-1)\n",
    "    return res\n",
    "\n",
    "\n",
    "def x_mp_real(in_val,M):\n",
    "    res0 = np.zeros((len(in_val),M+1),dtype=complex)\n",
    "    for c in range(M+1):\n",
    "        for r in range(len(in_val)-c):\n",
    "            res0[r+c,c] = in_val[r,0]\n",
    "\n",
    "    res = np.zeros((len(in_val),2*(M+1)))   \n",
    "    c2=0   \n",
    "    for c in range(0,2*(M+1),2):\n",
    "            res[:,c] = np.real(res0[:,c2])\n",
    "            res[:,c+1] = np.imag(res0[:,c2])\n",
    "            c2+=1\n",
    "    return res\n",
    "\n",
    "\n",
    "in_real = in_abs_real(in_val,P)\n",
    "x_real = x_mp_real(in_val,M)"
   ]
  },
  {
   "cell_type": "code",
   "execution_count": 14,
   "metadata": {
    "tags": []
   },
   "outputs": [
    {
     "output_type": "stream",
     "name": "stdout",
     "text": "[[0.21868565+0.01824158j]\n [0.25150858-0.11443982j]\n [0.27300396-0.22676049j]\n ...\n [0.10560923+0.17762753j]\n [0.10223906+0.16304819j]\n [0.09719938+0.12272305j]]\n"
    }
   ],
   "source": [
    "def mult1(in_real,x_real,M,P):\n",
    "    res = np.zeros((len(in_real),2*P*(M+1)))\n",
    "    zero = np.zeros((1,in_real.shape[1]))\n",
    "    c=-2\n",
    "    for c1 in range(0,2*(M+1),2):\n",
    "        if c1 != 0:\n",
    "            in_real = np.append(zero,in_real,axis=0)\n",
    "            in_real = in_real[0:in_real.shape[0]-1,:]\n",
    "        for c2 in range(P):\n",
    "            c+=2\n",
    "            res[:,c] = x_real[:,c1]*in_real[:,c2] \n",
    "            res[:,c+1] = x_real[:,c1+1]*in_real[:,c2]\n",
    "    res = res[0:len(res)-M,:]\n",
    "    return res\n",
    "\n",
    "\n",
    "def coef_real(coef):\n",
    "    res0 = np.zeros((len(coef),2))\n",
    "    for r in range(len(coef)):\n",
    "        res0[r,0] = np.real(coef[r])\n",
    "        res0[r,1] = np.imag(coef[r])\n",
    "    res = np.zeros((2*len(coef),2))\n",
    "    r2=0\n",
    "    for r in range(len(res0)):\n",
    "        res[r2,0]=res0[r,0]\n",
    "        res[r2,1]=res0[r,1]\n",
    "        res[r2+1,0]=-res0[r,1]\n",
    "        res[r2+1,1]=res0[r,0]\n",
    "        r2+=2\n",
    "    return res\n",
    "\n",
    "mult1_re = mult1(in_real,x_real,M,P)\n",
    "coef_re = coef_real(coefs)\n",
    "mult2_re = mult1_re@coef_re\n",
    "out_mat_re = mult2_re[:,0]+(mult2_re[:,1]*1j)\n",
    "out_mat_re = out_mat_re.reshape(len(out_mat_re),1)\n",
    "print(out_mat_re)"
   ]
  },
  {
   "cell_type": "code",
   "execution_count": 15,
   "metadata": {},
   "outputs": [
    {
     "output_type": "execute_result",
     "data": {
      "text/plain": "-38.07242351982885"
     },
     "metadata": {},
     "execution_count": 15
    }
   ],
   "source": [
    "out_val_re = out_val[0:len(out_val)-M,:]\n",
    "NMSE(out_mat_re,out_val_re)"
   ]
  }
 ],
 "metadata": {
  "language_info": {
   "codemirror_mode": {
    "name": "ipython",
    "version": 3
   },
   "file_extension": ".py",
   "mimetype": "text/x-python",
   "name": "python",
   "nbconvert_exporter": "python",
   "pygments_lexer": "ipython3",
   "version": "3.6.8-final"
  },
  "orig_nbformat": 2,
  "kernelspec": {
   "name": "python_defaultSpec_1595209323519",
   "display_name": "Python 3.6.8 64-bit"
  }
 },
 "nbformat": 4,
 "nbformat_minor": 2
}