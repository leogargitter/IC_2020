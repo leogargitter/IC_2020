{
 "cells": [
  {
   "cell_type": "markdown",
   "metadata": {},
   "source": [
    "# Número de operações em $|in(n-m)|^{p-1}$\n",
    "\n",
    "Vamos considerar $X^{p-1}$ com P=5, ou seja, p varia de 1 a 5:\n",
    "\n",
    "p=1 $\\rightarrow X^0 \\rightarrow$     0 multiplicações\n",
    "\n",
    "p=2 $\\rightarrow X^1 \\rightarrow$     0 multiplicações\n",
    "\n",
    "p=3 $\\rightarrow X^2 \\rightarrow$     1 multiplicação\n",
    "\n",
    "p=4 $\\rightarrow X^3 \\rightarrow$     2 multiplicações\n",
    "\n",
    "p=5 $\\rightarrow X^4 \\rightarrow$     3 multiplicações\n",
    "\n",
    "Observando os resultados anteriores conclui-se que o total de multiplicações somados é igual a: \n",
    "\n",
    "\\begin{gather}\n",
    "    Total_{mult.}=\\sum_{n=3}^{P}n-2\n",
    "\\end{gather}\n",
    "\n",
    "No caso P=2 não há multiplicações"
   ]
  },
  {
   "cell_type": "markdown",
   "metadata": {},
   "source": [
    "# Multiplicação de matrizes complexas simples\n",
    "\n",
    "Objetivo: reproduzir o produto a seguir usando apenas matrizes reais.\n",
    "\n",
    "\\begin{gather}\n",
    " \\begin{bmatrix} a+jb & c+jd \\end{bmatrix}\n",
    " *\n",
    " \\begin{bmatrix} e+jf \\\\ g+jh \\end{bmatrix}\n",
    " =\n",
    "  \\begin{bmatrix}\n",
    "    (a+jb)*(e+jf)+(c+jd)*(g+jh) \n",
    "   \\end{bmatrix}\n",
    "\\end{gather}\n",
    "\n",
    "\n"
   ]
  },
  {
   "cell_type": "code",
   "execution_count": 2,
   "metadata": {},
   "outputs": [
    {
     "output_type": "stream",
     "name": "stdout",
     "text": "Matriz 1x2:  [[1.+2.j 3.+4.j]]\n \nMatriz 2x1:  [[5.+6.j]\n [7.+8.j]]\n \n(1x2)*(2x1) =  [[-18.+68.j]]\n"
    }
   ],
   "source": [
    "import numpy as np\n",
    "\n",
    "a = np.matrix('1+2j 3+4j')\n",
    "b = np.matrix('5+6j ; 7+8j')\n",
    "c = a*b\n",
    "\n",
    "\n",
    "print('Matriz 1x2: ', a)\n",
    "print(' ')\n",
    "print('Matriz 2x1: ', b)\n",
    "print(' ')\n",
    "print('(1x2)*(2x1) = ', c)"
   ]
  },
  {
   "cell_type": "markdown",
   "metadata": {},
   "source": [
    "## Usando a forma retangular\n",
    "\n",
    "Um caminho é separar a parte complexa da parte real da matrix 1x1 resultante realizando a distributiva:\n",
    "\n",
    "\\begin{gather}\n",
    "   \\begin{bmatrix}\n",
    "    (a+jb)*(e+jf)+(c+jd)*(g+jh) \n",
    "   \\end{bmatrix}\n",
    "   =\\\\\n",
    "    \\begin{bmatrix}\n",
    "    (ae)+(jaf)+(jbe)-(bf)+(cg)+(jch)+(jdg)-(dh)\n",
    "   \\end{bmatrix}\n",
    "   =\\\\\n",
    "    \\begin{bmatrix}\n",
    "    ((ae+cg)-(bf+dh))+j(af+be+ch+dg)\n",
    "   \\end{bmatrix}\n",
    "\\end{gather}\n",
    "\n",
    "As matrizes 1x2 e 2x1 podem ser representadas da seguinte forma: \n",
    "### 1x2\n",
    "\n",
    "\\begin{gather}\n",
    " \\begin{bmatrix} a+jb & c+jd \\end{bmatrix} \n",
    " =  \n",
    " \\begin{bmatrix} a & b & c & d \\end{bmatrix}_{1x4}\n",
    "\\end{gather}\n",
    "\n",
    "### 2x1\n",
    "\n",
    "\\begin{gather}\n",
    "\\begin{bmatrix} e+jf \\\\ g+jh \\end{bmatrix}\n",
    " = \n",
    "\\begin{bmatrix} e & f \\\\ g & h \\end{bmatrix}_{2x2}\n",
    "\\end{gather}\n",
    "\n",
    "É importante destacar que as matrizes não terão dimensões compatíveis para a multiplicação direta, o procedimento de multiplicação é detalhado no código a seguir."
   ]
  },
  {
   "cell_type": "code",
   "execution_count": 3,
   "metadata": {},
   "outputs": [
    {
     "output_type": "stream",
     "name": "stdout",
     "text": "(1x2)*(2x1) =  [[-18  68]]\n"
    }
   ],
   "source": [
    "matriz1 = np.matrix('1 2 3 4')\n",
    "matriz2 = np.matrix('5 6 ; 7 8')\n",
    "\n",
    "a = matriz1.item(0,0)\n",
    "b = matriz1.item(0,1)\n",
    "c = matriz1.item(0,2)\n",
    "d = matriz1.item(0,3)\n",
    "\n",
    "e = matriz2.item(0,0)\n",
    "f = matriz2.item(0,1)\n",
    "g = matriz2.item(1,0)\n",
    "h = matriz2.item(1,1)\n",
    "\n",
    "real = (a*e+c*g)-(b*f+d*h)\n",
    "imag = (a*f+b*e+c*h+d*g)\n",
    "\n",
    "res = np.matrix([real, imag])\n",
    "\n",
    "print ('(1x2)*(2x1) = ', res)"
   ]
  },
  {
   "cell_type": "markdown",
   "metadata": {},
   "source": [
    "## Usando matrizes 2x2\n",
    "\n",
    "Outra maneira de realizar essa operação é representar os números complexos como matrizes 2x2 de numeros reais:\n",
    "\n",
    "\\begin{gather}\n",
    "    a+jb\n",
    "    =\n",
    "   \\begin{bmatrix}\n",
    "    a & -b \\\\ b & a\n",
    "   \\end{bmatrix}\n",
    "\n",
    "\\end{gather}"
   ]
  },
  {
   "cell_type": "code",
   "execution_count": 4,
   "metadata": {},
   "outputs": [
    {
     "output_type": "stream",
     "name": "stdout",
     "text": "[[-18 -68]\n [ 68 -18]]\n"
    }
   ],
   "source": [
    "num1 = np.matrix([[1,-2],[2,1]])\n",
    "num2 = np.matrix([[3,-4],[4,3]])\n",
    "num3 = np.matrix([[5,-6],[6,5]])\n",
    "num4 = np.matrix([[7,-8],[8,7]])\n",
    "\n",
    "res = (num1*num3) + (num2*num4)\n",
    "print(res)\n"
   ]
  },
  {
   "cell_type": "markdown",
   "metadata": {},
   "source": [
    "A vantagem desse método é que as multiplicações e adições funcionam diretamente."
   ]
  },
  {
   "cell_type": "markdown",
   "metadata": {},
   "source": [
    "## Forma polar\n",
    "\n",
    "\n",
    "\\begin{gather}\n",
    "   \\begin{bmatrix}\n",
    "    A \\angle \\alpha & B \\angle \\beta\n",
    "   \\end{bmatrix}\n",
    "*\n",
    "   \\begin{bmatrix}\n",
    "   C \\angle \\gamma \\\\ D \\angle \\delta\n",
    "   \\end{bmatrix}\n",
    "   =\\\\\n",
    "   \\begin{bmatrix}\n",
    "    A*C \\angle (\\alpha + \\gamma) & B*D \\angle (\\beta + \\delta)\n",
    "   \\end{bmatrix}\n",
    "   =\\\\\n",
    "   \\begin{bmatrix}\n",
    "    Z_{1} \\angle \\theta_{1} & Z_{2} \\angle \\theta_{2}\n",
    "   \\end{bmatrix}\n",
    "   =\\\\\n",
    "   \\begin{bmatrix}\n",
    "    (Z_{1}*\\cos{\\theta_{1}}+ Z_{2}*\\cos{\\theta_{1}})_{RE} & (Z_{1}*\\sin{\\theta_{1}}+ Z_{2}*\\sin{\\theta_{1})_{IM}}\n",
    "   \\end{bmatrix}\n",
    "   \n",
    "\\end{gather}\n",
    "\n",
    "### Total de operações\n",
    "\n",
    "- 4 somas\n",
    "- 6 multiplicações\n",
    "\n",
    "Obs.: não considerei os senos e cossenos como operações e também não considerei a conversão retangular->polar\n",
    "\n",
    "### Conversão retangular -> polar\n",
    "\n",
    "$$Z = \\sqrt{a^2+b^2}$$\n",
    "\n",
    "$$\\theta = \\arctan{(b/a)}$$"
   ]
  },
  {
   "cell_type": "code",
   "execution_count": 90,
   "metadata": {},
   "outputs": [
    {
     "output_type": "stream",
     "name": "stdout",
     "text": "[-17.999999999999996, 68.0]\n"
    }
   ],
   "source": [
    "mat1 = [1,2,3,4]\n",
    "mat2 = [5,6,7,8]\n",
    "\n",
    "def ret_polar(ret):\n",
    "    polar = []\n",
    "    for i in range(0,len(ret),2):\n",
    "        modulo = np.sqrt((ret[i]**2)+(ret[i+1]**2))\n",
    "        angulo = np.arctan(ret[i+1]/ret[i])\n",
    "        polar.append(modulo)\n",
    "        polar.append(angulo)\n",
    "    return polar\n",
    "\n",
    "mat1 = ret_polar(mat1)\n",
    "mat2 = ret_polar(mat2)\n",
    "\n",
    "mod = [mat1[i]*mat2[i] for i in range(0,len(mat1),2)]\n",
    "ang = [mat1[i]+mat2[i] for i in range(1,len(mat1),2)]\n",
    "\n",
    "res = [mod[0]*np.cos(ang[0])+mod[1]*np.cos(ang[1]), mod[0]*np.sin(ang[0])+mod[1]*np.sin(ang[1])]\n",
    "\n",
    "print(res)"
   ]
  },
  {
   "cell_type": "markdown",
   "metadata": {},
   "source": [
    "# Multiplicação de matrizes no modelo MP na forma retangular\n"
   ]
  }
 ],
 "metadata": {
  "language_info": {
   "codemirror_mode": {
    "name": "ipython",
    "version": 3
   },
   "file_extension": ".py",
   "mimetype": "text/x-python",
   "name": "python",
   "nbconvert_exporter": "python",
   "pygments_lexer": "ipython3",
   "version": "3.7.7-final"
  },
  "orig_nbformat": 2,
  "kernelspec": {
   "name": "python37764bitdad157b643b7445ca0af50d1c9882389",
   "display_name": "Python 3.7.7 64-bit"
  }
 },
 "nbformat": 4,
 "nbformat_minor": 2
}