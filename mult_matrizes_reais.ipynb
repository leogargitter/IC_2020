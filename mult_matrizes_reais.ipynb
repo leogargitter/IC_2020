{
 "cells": [
  {
   "cell_type": "markdown",
   "metadata": {},
   "source": [
    "## Número de operações em $|in(n-m)|^{p-1}$\n",
    "\n",
    "Vamos considerar $X^{p-1}$ com P=5, ou seja, p varia de 1 a 5:\n",
    "\n",
    "p=1 $\\rightarrow X^0 \\rightarrow$     0 multiplicações\n",
    "\n",
    "p=2 $\\rightarrow X^1 \\rightarrow$     0 multiplicações\n",
    "\n",
    "p=3 $\\rightarrow X^2 \\rightarrow$     1 multiplicações\n",
    "\n",
    "p=4 $\\rightarrow X^3 \\rightarrow$     2 multiplicações\n",
    "\n",
    "p=5 $\\rightarrow X^4 \\rightarrow$     3 multiplicações\n",
    "\n",
    "Observando os resultados anteriores conclui-se que o total de multiplicações somados é igual a: \n",
    "\n",
    "\\begin{gather}\n",
    "    Total_{mult.}=\\sum_{n=3}^{P}n-2\n",
    "\\end{gather}\n"
   ]
  },
  {
   "cell_type": "markdown",
   "metadata": {},
   "source": [
    "## Multiplicação de matrizes complexas\n",
    "\n",
    "Objetivo: reproduzir o produto a seguir usando apenas matrizes reais.\n",
    "\\begin{gather}\n",
    " \\begin{bmatrix} a+jb & c+jd \\end{bmatrix}\n",
    " *\n",
    " \\begin{bmatrix} e+jf \\\\ g+jh \\end{bmatrix}\n",
    " =\n",
    "  \\begin{bmatrix}\n",
    "    (a+jb)*(e+jf)+(c+jd)*(g+jh) \n",
    "   \\end{bmatrix}\n",
    "\\end{gather}\n",
    "\n",
    "Um caminho é separar a parte complexa da parte real da matrix 1x1 resultante realizando a distributiva:\n",
    "\n",
    "\\begin{gather}\n",
    "   \\begin{bmatrix}\n",
    "    (a+jb)*(e+jf)+(c+jd)*(g+jh) \n",
    "   \\end{bmatrix}\n",
    "   =\\\\\n",
    "    \\begin{bmatrix}\n",
    "    (ae)+(jaf)+(jbe)-(bf)+(cg)+(jch)+(jdg)-(dh)\n",
    "   \\end{bmatrix}\n",
    "   =\\\\\n",
    "    \\begin{bmatrix}\n",
    "    ((ae+cg)-(bf+dh))+j(af+be+ch+dg)\n",
    "   \\end{bmatrix}\n",
    "\\end{gather}\n"
   ]
  }
 ],
 "metadata": {
  "language_info": {
   "codemirror_mode": {
    "name": "ipython",
    "version": 3
   },
   "file_extension": ".py",
   "mimetype": "text/x-python",
   "name": "python",
   "nbconvert_exporter": "python",
   "pygments_lexer": "ipython3",
   "version": 3
  },
  "orig_nbformat": 2
 },
 "nbformat": 4,
 "nbformat_minor": 2
}