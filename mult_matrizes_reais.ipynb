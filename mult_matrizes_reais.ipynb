{
 "cells": [
  {
   "cell_type": "markdown",
   "metadata": {},
   "source": [
    "## Número de operações em $|in(n-m)|^{p-1}$\n",
    "\n",
    "Vamos considerar $X^{p-1}$ com P=5, ou seja, p varia de 1 a 5:\n",
    "\n",
    "p=1 $\\rightarrow X^0 \\rightarrow$     0 multiplicações\n",
    "\n",
    "p=2 $\\rightarrow X^1 \\rightarrow$     0 multiplicações\n",
    "\n",
    "p=3 $\\rightarrow X^2 \\rightarrow$     1 multiplicações\n",
    "\n",
    "p=4 $\\rightarrow X^3 \\rightarrow$     2 multiplicações\n",
    "\n",
    "p=5 $\\rightarrow X^4 \\rightarrow$     3 multiplicações\n",
    "\n",
    "Observando os resultados anteriores conclui-se que o total de multiplicações somados é igual a: \n",
    "\n",
    "\\begin{gather}\n",
    "    Total_{mult.}=\\sum_{n=3}^{P}n-2\n",
    "\\end{gather}\n"
   ]
  },
  {
   "cell_type": "markdown",
   "metadata": {},
   "source": [
    "## Multiplicação de matrizes complexas\n",
    "\n",
    "Objetivo: reproduzir o produto a seguir usando apenas matrizes reais.\n",
    "\\begin{gather}\n",
    " \\begin{bmatrix} a+jb & c+jd \\end{bmatrix}\n",
    " *\n",
    " \\begin{bmatrix} e+jf \\\\ g+jh \\end{bmatrix}\n",
    " =\n",
    "  \\begin{bmatrix}\n",
    "    (a+jb)*(e+jf)+(c+jd)*(g+jh) \n",
    "   \\end{bmatrix}\n",
    "\\end{gather}\n",
    "\n",
    "\n"
   ]
  },
  {
   "cell_type": "code",
   "execution_count": 5,
   "metadata": {},
   "outputs": [
    {
     "output_type": "stream",
     "name": "stdout",
     "text": "Matriz 1x2:  [[1.+2.j 3.+4.j]]\nMatriz 2x1:  [[5.+6.j]\n [7.+8.j]]\n(1x2)*(2x1)=  [[-18.+68.j]]\n"
    }
   ],
   "source": [
    "import numpy as np\n",
    "\n",
    "a = np.matrix('1+2j 3+4j')\n",
    "b = np.matrix('5+6j ; 7+8j')\n",
    "c = a*b\n",
    "\n",
    "\n",
    "print('Matriz 1x2: ', a)\n",
    "print('Matriz 2x1: ', b)\n",
    "print('(1x2)*(2x1)= ', c)"
   ]
  },
  {
   "cell_type": "markdown",
   "metadata": {},
   "source": [
    "Um caminho é separar a parte complexa da parte real da matrix 1x1 resultante realizando a distributiva:\n",
    "\n",
    "\\begin{gather}\n",
    "   \\begin{bmatrix}\n",
    "    (a+jb)*(e+jf)+(c+jd)*(g+jh) \n",
    "   \\end{bmatrix}\n",
    "   =\\\\\n",
    "    \\begin{bmatrix}\n",
    "    (ae)+(jaf)+(jbe)-(bf)+(cg)+(jch)+(jdg)-(dh)\n",
    "   \\end{bmatrix}\n",
    "   =\\\\\n",
    "    \\begin{bmatrix}\n",
    "    ((ae+cg)-(bf+dh))+j(af+be+ch+dg)\n",
    "   \\end{bmatrix}\n",
    "\\end{gather}\n",
    "\n",
    "As matrizes 1x2 e 2x1 podem ser representadas da seguinte forma: \n",
    "### 1x2\n",
    "\n",
    "\\begin{gather}\n",
    " \\begin{bmatrix} a+jb & c+jd \\end{bmatrix} \n",
    " =  \n",
    " \\begin{bmatrix} a & b & c & d \\end{bmatrix}_{1x4}\n",
    "\\end{gather}\n",
    "\n",
    "### 2x1\n",
    "\n",
    "\\begin{gather}\n",
    "\\begin{bmatrix} e+jf \\\\ g+jh \\end{bmatrix}\n",
    " = \n",
    "\\begin{bmatrix} e & f \\\\ g & h \\end{bmatrix}_{2x2}\n",
    "\\end{gather}\n",
    "\n",
    "É importante destacar que as matrizes não terão dimensões compatíveis para a multiplicação direta, o procedimento de multiplicação é detalhado no código a seguir."
   ]
  },
  {
   "cell_type": "code",
   "execution_count": 10,
   "metadata": {},
   "outputs": [
    {
     "output_type": "error",
     "ename": "IndexError",
     "evalue": "index 1 is out of bounds for axis 0 with size 1",
     "traceback": [
      "\u001b[1;31m---------------------------------------------------------------------------\u001b[0m",
      "\u001b[1;31mIndexError\u001b[0m                                Traceback (most recent call last)",
      "\u001b[1;32m<ipython-input-10-666c052e5c4a>\u001b[0m in \u001b[0;36m<module>\u001b[1;34m\u001b[0m\n\u001b[0;32m      1\u001b[0m \u001b[0ma\u001b[0m \u001b[1;33m=\u001b[0m \u001b[0mnp\u001b[0m\u001b[1;33m.\u001b[0m\u001b[0mmatrix\u001b[0m\u001b[1;33m(\u001b[0m\u001b[1;34m'1 2 3 4'\u001b[0m\u001b[1;33m)\u001b[0m\u001b[1;33m\u001b[0m\u001b[1;33m\u001b[0m\u001b[0m\n\u001b[0;32m      2\u001b[0m \u001b[0mb\u001b[0m \u001b[1;33m=\u001b[0m \u001b[0mnp\u001b[0m\u001b[1;33m.\u001b[0m\u001b[0mmatrix\u001b[0m\u001b[1;33m(\u001b[0m\u001b[1;34m'5 6 ; 7 8'\u001b[0m\u001b[1;33m)\u001b[0m\u001b[1;33m\u001b[0m\u001b[1;33m\u001b[0m\u001b[0m\n\u001b[1;32m----> 3\u001b[1;33m \u001b[0mprint\u001b[0m\u001b[1;33m(\u001b[0m\u001b[0ma\u001b[0m\u001b[1;33m[\u001b[0m\u001b[1;36m0\u001b[0m\u001b[1;33m]\u001b[0m\u001b[1;33m[\u001b[0m\u001b[1;36m1\u001b[0m\u001b[1;33m]\u001b[0m\u001b[1;33m)\u001b[0m\u001b[1;33m\u001b[0m\u001b[1;33m\u001b[0m\u001b[0m\n\u001b[0m",
      "\u001b[1;32m~\\AppData\\Local\\Programs\\Python\\Python37\\lib\\site-packages\\numpy\\matrixlib\\defmatrix.py\u001b[0m in \u001b[0;36m__getitem__\u001b[1;34m(self, index)\u001b[0m\n\u001b[0;32m    193\u001b[0m \u001b[1;33m\u001b[0m\u001b[0m\n\u001b[0;32m    194\u001b[0m         \u001b[1;32mtry\u001b[0m\u001b[1;33m:\u001b[0m\u001b[1;33m\u001b[0m\u001b[1;33m\u001b[0m\u001b[0m\n\u001b[1;32m--> 195\u001b[1;33m             \u001b[0mout\u001b[0m \u001b[1;33m=\u001b[0m \u001b[0mN\u001b[0m\u001b[1;33m.\u001b[0m\u001b[0mndarray\u001b[0m\u001b[1;33m.\u001b[0m\u001b[0m__getitem__\u001b[0m\u001b[1;33m(\u001b[0m\u001b[0mself\u001b[0m\u001b[1;33m,\u001b[0m \u001b[0mindex\u001b[0m\u001b[1;33m)\u001b[0m\u001b[1;33m\u001b[0m\u001b[1;33m\u001b[0m\u001b[0m\n\u001b[0m\u001b[0;32m    196\u001b[0m         \u001b[1;32mfinally\u001b[0m\u001b[1;33m:\u001b[0m\u001b[1;33m\u001b[0m\u001b[1;33m\u001b[0m\u001b[0m\n\u001b[0;32m    197\u001b[0m             \u001b[0mself\u001b[0m\u001b[1;33m.\u001b[0m\u001b[0m_getitem\u001b[0m \u001b[1;33m=\u001b[0m \u001b[1;32mFalse\u001b[0m\u001b[1;33m\u001b[0m\u001b[1;33m\u001b[0m\u001b[0m\n",
      "\u001b[1;31mIndexError\u001b[0m: index 1 is out of bounds for axis 0 with size 1"
     ]
    }
   ],
   "source": [
    "a = np.matrix('1 2 3 4')\n",
    "b = np.matrix('5 6 ; 7 8')\n",
    "print(a)"
   ]
  },
  {
   "cell_type": "code",
   "execution_count": null,
   "metadata": {},
   "outputs": [],
   "source": []
  }
 ],
 "metadata": {
  "language_info": {
   "codemirror_mode": {
    "name": "ipython",
    "version": 3
   },
   "file_extension": ".py",
   "mimetype": "text/x-python",
   "name": "python",
   "nbconvert_exporter": "python",
   "pygments_lexer": "ipython3",
   "version": "3.7.7-final"
  },
  "orig_nbformat": 2,
  "kernelspec": {
   "name": "python37764bitdad157b643b7445ca0af50d1c9882389",
   "display_name": "Python 3.7.7 64-bit"
  }
 },
 "nbformat": 4,
 "nbformat_minor": 2
}