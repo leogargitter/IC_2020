{
 "cells": [
  {
   "cell_type": "markdown",
   "metadata": {},
   "source": [
    "# Número de operações em $|in(n-m)|^{p-1}$\n",
    "\n",
    "Vamos considerar $X^{p-1}$ com P=5, ou seja, p varia de 1 a 5:\n",
    "\n",
    "p=1 $\\rightarrow X^0 \\rightarrow$     0 multiplicações\n",
    "\n",
    "p=2 $\\rightarrow X^1 \\rightarrow$     0 multiplicações\n",
    "\n",
    "p=3 $\\rightarrow X^2 \\rightarrow$     1 multiplicações\n",
    "\n",
    "p=4 $\\rightarrow X^3 \\rightarrow$     2 multiplicações\n",
    "\n",
    "p=5 $\\rightarrow X^4 \\rightarrow$     3 multiplicações\n",
    "\n",
    "Observando os resultados anteriores conclui-se que o total de multiplicações somados é igual a: \n",
    "\n",
    "\\begin{gather}\n",
    "    Total_{mult.}=\\sum_{n=3}^{P}n-2\n",
    "\\end{gather}\n"
   ]
  },
  {
   "cell_type": "markdown",
   "metadata": {},
   "source": [
    "# Multiplicação de matrizes complexas\n",
    "\n",
    "Objetivo: reproduzir o produto a seguir usando apenas matrizes reais.\n",
    "\n",
    "\\begin{gather}\n",
    " \\begin{bmatrix} a+jb & c+jd \\end{bmatrix}\n",
    " *\n",
    " \\begin{bmatrix} e+jf \\\\ g+jh \\end{bmatrix}\n",
    " =\n",
    "  \\begin{bmatrix}\n",
    "    (a+jb)*(e+jf)+(c+jd)*(g+jh) \n",
    "   \\end{bmatrix}\n",
    "\\end{gather}\n",
    "\n",
    "\n"
   ]
  },
  {
   "cell_type": "code",
   "execution_count": 77,
   "metadata": {},
   "outputs": [
    {
     "output_type": "stream",
     "name": "stdout",
     "text": "Matriz 1x2:  [[1.+2.j 3.+4.j]]\n \nMatriz 2x1:  [[5.+6.j]\n [7.+8.j]]\n \n(1x2)*(2x1) =  [[-18.+68.j]]\n"
    }
   ],
   "source": [
    "import numpy as np\n",
    "\n",
    "a = np.matrix('1+2j 3+4j')\n",
    "b = np.matrix('5+6j ; 7+8j')\n",
    "c = a*b\n",
    "\n",
    "\n",
    "print('Matriz 1x2: ', a)\n",
    "print(' ')\n",
    "print('Matriz 2x1: ', b)\n",
    "print(' ')\n",
    "print('(1x2)*(2x1) = ', c)"
   ]
  },
  {
   "cell_type": "markdown",
   "metadata": {},
   "source": [
    "## Usando a forma retangular\n",
    "\n",
    "Um caminho é separar a parte complexa da parte real da matrix 1x1 resultante realizando a distributiva:\n",
    "\n",
    "\\begin{gather}\n",
    "   \\begin{bmatrix}\n",
    "    (a+jb)*(e+jf)+(c+jd)*(g+jh) \n",
    "   \\end{bmatrix}\n",
    "   =\\\\\n",
    "    \\begin{bmatrix}\n",
    "    (ae)+(jaf)+(jbe)-(bf)+(cg)+(jch)+(jdg)-(dh)\n",
    "   \\end{bmatrix}\n",
    "   =\\\\\n",
    "    \\begin{bmatrix}\n",
    "    ((ae+cg)-(bf+dh))+j(af+be+ch+dg)\n",
    "   \\end{bmatrix}\n",
    "\\end{gather}\n",
    "\n",
    "As matrizes 1x2 e 2x1 podem ser representadas da seguinte forma: \n",
    "### 1x2\n",
    "\n",
    "\\begin{gather}\n",
    " \\begin{bmatrix} a+jb & c+jd \\end{bmatrix} \n",
    " =  \n",
    " \\begin{bmatrix} a & b & c & d \\end{bmatrix}_{1x4}\n",
    "\\end{gather}\n",
    "\n",
    "### 2x1\n",
    "\n",
    "\\begin{gather}\n",
    "\\begin{bmatrix} e+jf \\\\ g+jh \\end{bmatrix}\n",
    " = \n",
    "\\begin{bmatrix} e & f \\\\ g & h \\end{bmatrix}_{2x2}\n",
    "\\end{gather}\n",
    "\n",
    "É importante destacar que as matrizes não terão dimensões compatíveis para a multiplicação direta, o procedimento de multiplicação é detalhado no código a seguir."
   ]
  },
  {
   "cell_type": "code",
   "execution_count": 78,
   "metadata": {},
   "outputs": [
    {
     "output_type": "stream",
     "name": "stdout",
     "text": "(1x2)*(2x1) =  [[-18  68]]\n"
    }
   ],
   "source": [
    "matriz1 = np.matrix('1 2 3 4')\n",
    "matriz2 = np.matrix('5 6 ; 7 8')\n",
    "\n",
    "a = matriz1.item(0,0)\n",
    "b = matriz1.item(0,1)\n",
    "c = matriz1.item(0,2)\n",
    "d = matriz1.item(0,3)\n",
    "\n",
    "e = matriz2.item(0,0)\n",
    "f = matriz2.item(0,1)\n",
    "g = matriz2.item(1,0)\n",
    "h = matriz2.item(1,1)\n",
    "\n",
    "real = (a*e+c*g)-(b*f+d*h)\n",
    "imag = (a*f+b*e+c*h+d*g)\n",
    "\n",
    "res = np.matrix([real, imag])\n",
    "\n",
    "print ('(1x2)*(2x1) = ', res)"
   ]
  },
  {
   "cell_type": "markdown",
   "metadata": {},
   "source": [
    "## Usando matrizes 2x2\n",
    "\n",
    "Outra maneira de realizar essa operação é representar os números complexos como matrizes 2x2 de numeros reais:\n",
    "\n",
    "\\begin{gather}\n",
    "    a+jb\n",
    "    =\n",
    "   \\begin{bmatrix}\n",
    "    a & -b \\\\ b & a\n",
    "   \\end{bmatrix}\n",
    "\n",
    "\\end{gather}"
   ]
  },
  {
   "cell_type": "code",
   "execution_count": 126,
   "metadata": {},
   "outputs": [
    {
     "output_type": "stream",
     "name": "stdout",
     "text": "[[ -5 -10]\n [ 10  -5]]\n"
    }
   ],
   "source": [
    "num1 = np.matrix([[1,-2],[2,1]])\n",
    "num2 = np.matrix([[3,-4],[4,3]])\n",
    "num3 = np.matrix([[5,-6],[6,5]])\n",
    "num4 = np.matrix([[7,-8],[8,7]])\n",
    "\n",
    "nums1 = np.matrix('1 -2; 2 1')\n",
    "nums2 = np.matrix('3 -4; 4 3')\n",
    "print(num1*num2)\n"
   ]
  },
  {
   "cell_type": "code",
   "execution_count": 104,
   "metadata": {},
   "outputs": [
    {
     "output_type": "stream",
     "name": "stdout",
     "text": "(1, 3, 5, 2)\n"
    }
   ],
   "source": [
    "ds= np.array([[[[ 1,  2],\n",
    "         [ 3,  4],\n",
    "         [ 5,  4],\n",
    "         [ 5,  6],\n",
    "         [ 7,  8]],\n",
    "\n",
    "        [[ 2,  4],\n",
    "         [ 6,  8],\n",
    "         [12,  3],\n",
    "         [ 6,  9],\n",
    "         [12, 15]],\n",
    "\n",
    "        [[ 3,  8],\n",
    "         [ 8,  9],\n",
    "         [ 8,  9],\n",
    "         [ 9, 10],\n",
    "         [11, 19]]]])\n",
    "print(ds.shape)"
   ]
  },
  {
   "cell_type": "code",
   "execution_count": null,
   "metadata": {},
   "outputs": [],
   "source": []
  }
 ],
 "metadata": {
  "language_info": {
   "codemirror_mode": {
    "name": "ipython",
    "version": 3
   },
   "file_extension": ".py",
   "mimetype": "text/x-python",
   "name": "python",
   "nbconvert_exporter": "python",
   "pygments_lexer": "ipython3",
   "version": "3.7.7-final"
  },
  "orig_nbformat": 2,
  "kernelspec": {
   "name": "python37764bitdad157b643b7445ca0af50d1c9882389",
   "display_name": "Python 3.7.7 64-bit"
  }
 },
 "nbformat": 4,
 "nbformat_minor": 2
}